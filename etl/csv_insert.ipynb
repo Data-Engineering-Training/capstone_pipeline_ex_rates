{
 "cells": [
  {
   "cell_type": "code",
   "execution_count": 14,
   "metadata": {},
   "outputs": [],
   "source": [
    "import requests\n",
    "import json\n",
    "import pandas as pd \n",
    "from datetime import datetime \n",
    "import os\n",
    "import sys \n",
    "from importlib import reload\n",
    "import csv\n",
    "\n",
    "\n",
    "# dir_path = os.path.abspath(os.path.join(os.path.dirname(__file__), '..', 'config'))\n",
    "\n",
    "# sys.path.append(dir_path)\n",
    "\n",
    "import connection\n",
    "connection  = reload(connection)\n"
   ]
  },
  {
   "cell_type": "code",
   "execution_count": 11,
   "metadata": {},
   "outputs": [
    {
     "name": "stdout",
     "output_type": "stream",
     "text": [
      "Error connecting to local PostgreSQL: connection to server at \"172.17.0.2\", port 5432 failed: Connection refused\n",
      "\tIs the server running on that host and accepting TCP/IP connections?\n",
      "\n"
     ]
    },
    {
     "ename": "AttributeError",
     "evalue": "'NoneType' object has no attribute 'cursor'",
     "output_type": "error",
     "traceback": [
      "\u001b[0;31m---------------------------------------------------------------------------\u001b[0m",
      "\u001b[0;31mAttributeError\u001b[0m                            Traceback (most recent call last)",
      "Cell \u001b[0;32mIn[11], line 2\u001b[0m\n\u001b[1;32m      1\u001b[0m conn_pg \u001b[38;5;241m=\u001b[39m connection\u001b[38;5;241m.\u001b[39mconnect_to_local_postgres()\n\u001b[0;32m----> 2\u001b[0m cur_pg \u001b[38;5;241m=\u001b[39m \u001b[43mconn_pg\u001b[49m\u001b[38;5;241;43m.\u001b[39;49m\u001b[43mcursor\u001b[49m()\n\u001b[1;32m      3\u001b[0m \u001b[38;5;66;03m# df = pd.read_csv('../data/exchange_rate_2024-06-03_160000.csv')\u001b[39;00m\n\u001b[1;32m      4\u001b[0m \u001b[38;5;66;03m# df.head()\u001b[39;00m\n\u001b[1;32m      5\u001b[0m \u001b[38;5;66;03m# df.shape\u001b[39;00m\n",
      "\u001b[0;31mAttributeError\u001b[0m: 'NoneType' object has no attribute 'cursor'"
     ]
    }
   ],
   "source": [
    "conn_pg = connection.connect_to_local_postgres()\n",
    "cur_pg = conn_pg.cursor()\n",
    "# df = pd.read_csv('../data/exchange_rate_2024-06-03_160000.csv')\n",
    "# df.head()\n",
    "# df.shape"
   ]
  },
  {
   "cell_type": "code",
   "execution_count": 5,
   "metadata": {},
   "outputs": [
    {
     "name": "stdout",
     "output_type": "stream",
     "text": [
      "../data/exchange_rate_2024-06-03_160000.csv\n"
     ]
    }
   ],
   "source": [
    "csv_path = '../data/exchange_rate_2024-06-03_160000.csv'\n",
    "# print(csv_path)"
   ]
  },
  {
   "cell_type": "code",
   "execution_count": 28,
   "metadata": {},
   "outputs": [
    {
     "name": "stdout",
     "output_type": "stream",
     "text": [
      "Table Creation Successful\n"
     ]
    }
   ],
   "source": [
    "table_name = 'exchange_rates_import'\n",
    "conn_pg = connection.connect_to_local_postgres()\n",
    "cur_pg = conn_pg.cursor()\n",
    "try:\n",
    "    rates_table = f'''CREATE TABLE IF NOT EXISTS {table_name} (\n",
    "                        primary_key varchar PRIMARY KEY, \n",
    "                        currency VARCHAR(3),\n",
    "                        rate NUMERIC(16, 8),\n",
    "                        base VARCHAR(3),\n",
    "                        date Date,\n",
    "                        timestamp VARCHAR(16),\n",
    "                        rate_checker VARCHAR(45) UNIQUE\n",
    "                        \n",
    "                    )'''\n",
    "    cur_pg.execute(rates_table)\n",
    "    conn_pg.commit()\n",
    "    print(\"Table Creation Successful\")\n",
    "except Exception as e:\n",
    "    conn_pg.rollback()\n",
    "    print(\"Error occurred:\", e)"
   ]
  },
  {
   "cell_type": "code",
   "execution_count": 23,
   "metadata": {},
   "outputs": [],
   "source": [
    "# Open the CSV file\n",
    "with open(csv_path, 'r') as file:\n",
    "    reader = csv.reader(file)\n",
    "    next(reader)  # Skip the header row if it exists\n",
    "    for row in reader:\n",
    "        # Insert each row into the PostgreSQL table\n",
    "        cur_pg.execute(\n",
    "          '''INSERT INTO exchange_rates_demo (primary_key, currency, rate, base, date, timestamp, rate_checker) \n",
    "                              VALUES (%s, %s, %s, %s, %s, %s, %s )\n",
    "                              ON CONFLICT(rate_checker) \n",
    "                              DO UPDATE\n",
    "                              SET primary_key = EXCLUDED.primary_key,\n",
    "                              currency = EXCLUDED.currency,\n",
    "                              rate = EXCLUDED.rate,\n",
    "                              base = EXCLUDED.base,\n",
    "                              date = EXCLUDED.date,\n",
    "                              timestamp = EXCLUDED.timestamp; ''',\n",
    "            row\n",
    "        )\n",
    "\n",
    "# Commit the transaction\n",
    "conn_pg.commit()\n",
    "\n",
    "# Close the cursor and connection\n",
    "# cur_pg.close()\n",
    "# conn_pg.close()"
   ]
  },
  {
   "cell_type": "code",
   "execution_count": 17,
   "metadata": {},
   "outputs": [],
   "source": [
    "conn_pg.rollback()"
   ]
  },
  {
   "cell_type": "code",
   "execution_count": null,
   "metadata": {},
   "outputs": [],
   "source": []
  }
 ],
 "metadata": {
  "kernelspec": {
   "display_name": "Python 3",
   "language": "python",
   "name": "python3"
  },
  "language_info": {
   "codemirror_mode": {
    "name": "ipython",
    "version": 3
   },
   "file_extension": ".py",
   "mimetype": "text/x-python",
   "name": "python",
   "nbconvert_exporter": "python",
   "pygments_lexer": "ipython3",
   "version": "3.12.3"
  }
 },
 "nbformat": 4,
 "nbformat_minor": 2
}
